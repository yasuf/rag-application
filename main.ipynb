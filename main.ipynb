{
 "cells": [
  {
   "cell_type": "markdown",
   "id": "47775138",
   "metadata": {},
   "source": [
    "## Setup"
   ]
  },
  {
   "cell_type": "code",
   "execution_count": 1,
   "id": "dba60957",
   "metadata": {},
   "outputs": [
    {
     "data": {
      "text/plain": [
       "True"
      ]
     },
     "execution_count": 1,
     "metadata": {},
     "output_type": "execute_result"
    }
   ],
   "source": [
    "import csv\n",
    "import re\n",
    "from pinecone import Pinecone\n",
    "\n",
    "from ollama import chat\n",
    "from ollama import ChatResponse\n",
    "\n",
    "# Initialize dotenv to load environment variables.\n",
    "from dotenv import load_dotenv\n",
    "\n",
    "load_dotenv()"
   ]
  },
  {
   "cell_type": "markdown",
   "id": "09e67290",
   "metadata": {},
   "source": [
    "## Create Pinecone index"
   ]
  },
  {
   "cell_type": "code",
   "execution_count": 2,
   "id": "43fc9ef1",
   "metadata": {},
   "outputs": [],
   "source": [
    "import os\n",
    "\n",
    "pinecone_api_key = os.getenv('PINECONE_API_KEY')\n",
    "\n",
    "pc = Pinecone(api_key=pinecone_api_key)\n",
    "\n",
    "index_name = \"rag-example\"\n",
    "\n",
    "if not pc.has_index(index_name):\n",
    "    pc.create_index_for_model(\n",
    "        name=index_name,\n",
    "        cloud=\"aws\",\n",
    "        region=\"us-east-1\",\n",
    "        embed={\n",
    "            \"model\": \"llama-text-embed-v2\",\n",
    "\n",
    "            \"field_map\": {\"text\": \"chunk_text\"}\n",
    "        }\n",
    "    )\n"
   ]
  },
  {
   "cell_type": "markdown",
   "id": "c58a8e2f",
   "metadata": {},
   "source": [
    "## Create batches"
   ]
  },
  {
   "cell_type": "code",
   "execution_count": 3,
   "id": "4361e774",
   "metadata": {},
   "outputs": [
    {
     "name": "stdout",
     "output_type": "stream",
     "text": [
      "Number of joke record batches: 28\n"
     ]
    }
   ],
   "source": [
    "import json\n",
    "\n",
    "records_batches = {}\n",
    "\n",
    "with open('./reddit_jokes.json', 'r') as file:\n",
    "    json_reader = json.load(file)\n",
    "    i = 0\n",
    "    batch = 0\n",
    "    for joke in json_reader:\n",
    "        if i % 50 == 0 and i != 0:\n",
    "            batch += 1\n",
    "        records_batches.setdefault(batch, [])\n",
    "        i += 1\n",
    "        full_joke = joke[\"title\"] + '\\n\\n' + joke[\"body\"]\n",
    "        records_batches[batch].append({\n",
    "            \"_id\": f\"rec{i}\",\n",
    "            \"chunk_text\": full_joke\n",
    "        })\n",
    "\n",
    "print(f\"Number of joke record batches: {len(records_batches.keys())}\")"
   ]
  },
  {
   "cell_type": "code",
   "execution_count": 4,
   "id": "7a301fb8",
   "metadata": {},
   "outputs": [
    {
     "name": "stderr",
     "output_type": "stream",
     "text": [
      "/Users/yasu/.local/share/virtualenvs/rag-application-tnsFL0q_/lib/python3.11/site-packages/tqdm/auto.py:21: TqdmWarning: IProgress not found. Please update jupyter and ipywidgets. See https://ipywidgets.readthedocs.io/en/stable/user_install.html\n",
      "  from .autonotebook import tqdm as notebook_tqdm\n"
     ]
    },
    {
     "name": "stdout",
     "output_type": "stream",
     "text": [
      "{'dimension': 1024,\n",
      " 'index_fullness': 0.0,\n",
      " 'metric': 'cosine',\n",
      " 'namespaces': {'reddit_jokes_namespace': {'vector_count': 1395}},\n",
      " 'total_vector_count': 1395,\n",
      " 'vector_type': 'dense'}\n"
     ]
    }
   ],
   "source": [
    "import time\n",
    "\n",
    "# Retrieve the connection to the index\n",
    "dense_index = pc.Index(index_name)\n",
    "pinecone_index_namespace = \"reddit_jokes_namespace\"\n",
    "\n",
    "# Insert records in batches, the sleep is to avoid running into rate limit errors\n",
    "for batch_index, batch_data in records_batches.items():\n",
    "    dense_index.upsert_records(pinecone_index_namespace, batch_data)\n",
    "    time.sleep(5)\n",
    "\n",
    "# Print index's stats to confirm that the records were created:\n",
    "stats = dense_index.describe_index_stats()\n",
    "print(stats)"
   ]
  },
  {
   "cell_type": "markdown",
   "id": "9a29c031",
   "metadata": {},
   "source": [
    "## RAG Example"
   ]
  },
  {
   "cell_type": "code",
   "execution_count": 5,
   "id": "ce0cd23b",
   "metadata": {},
   "outputs": [
    {
     "name": "stdout",
     "output_type": "stream",
     "text": [
      "Got 3 results from the Vector Database\n",
      "I'd be happy to share some dog-gone good jokes with you! Here are a few:\n",
      "\n",
      "1. Why did the dog go to the vet?\n",
      "\n",
      "Because he was feeling ruff!\n",
      "\n",
      "2. What did the dog say when his owner asked him if he wanted to go for a walk?\n",
      "\n",
      "\"I'm paws-itive I do!\"\n",
      "\n",
      "3. Why did the dog go to the gym?\n",
      "\n",
      "To get a paws-itive workout!\n",
      "\n",
      "4. What do you call a dog that does magic tricks?\n",
      "\n",
      "A labracadabrador!\n",
      "\n",
      "5. Why did the dog go to the beauty parlor?\n",
      "\n",
      "Because he wanted to get a paws-itively gorgeous haircut!\n",
      "\n",
      "6. Why did the dog go to the therapist?\n",
      "\n",
      "Because he was feeling a little ruff around the edges!\n",
      "\n",
      "7. What do you call a dog that's a good listener?\n",
      "\n",
      "A retriever!\n",
      "\n",
      "8. Why did the dog become a detective?\n",
      "\n",
      "Because he was great at sniffing out clues!\n",
      "\n",
      "9. What do you call a dog that's a good singer?\n",
      "\n",
      "A howl-lywood star!\n",
      "\n",
      "10. Why did the dog go to the amusement park?\n",
      "\n",
      "To ride the paws-coaster!\n",
      "\n",
      "I hope these jokes made you howl with laughter!\n"
     ]
    }
   ],
   "source": [
    "pinecone_index_namespace = \"reddit_jokes_namespace\"\n",
    "query = \"Share with me the best jokes that involve dogs.\"\n",
    "\n",
    "results = dense_index.search(\n",
    "    namespace=pinecone_index_namespace,\n",
    "    query={\n",
    "        \"top_k\": 3,\n",
    "        \"inputs\": {\n",
    "            'text': query\n",
    "        }\n",
    "    }\n",
    ")\n",
    "\n",
    "augmentation_data = []\n",
    "\n",
    "print(f\"Got {len(results['result']['hits'])} results from the Vector Database\")\n",
    "\n",
    "for hit in results['result']['hits']:\n",
    "    augmentation_data.append(hit['fields']['chunk_text'])\n",
    "\n",
    "separator = '\\n\\n\\n====================================\\n\\n\\n'\n",
    "augmentation_data = separator.join(augmentation_data)\n",
    "\n",
    "response: ChatResponse = chat(model='llama3.2', messages=[\n",
    "    {\n",
    "        'role': 'system',\n",
    "        'content': 'You are a helpful assistant',\n",
    "    },\n",
    "    {\n",
    "        'role': 'system',\n",
    "        'content': \"\"\"\n",
    "The user's question is:\n",
    "{query}\n",
    "\n",
    "Aproach this task step-by-step, take your time and do not skip steps.\n",
    "\n",
    "Based on the user's question and using the following data as input:\n",
    "\n",
    "{augmentation_data}\n",
    "\n",
    "1. Read each paragraph from the previous augmentation text.\n",
    "2. Create a response that summarizes ONLY the text relevant to the user's query.\n",
    "3. Create a message so the user can laugh at the jokes found in the data found.\n",
    "\n",
    "\"\"\"\n",
    "    },\n",
    "    {\n",
    "        'role': 'user',\n",
    "        'content': query,\n",
    "    }\n",
    "])\n",
    "\n",
    "print(response['message']['content'])"
   ]
  },
  {
   "cell_type": "code",
   "execution_count": null,
   "id": "82097518",
   "metadata": {},
   "outputs": [],
   "source": []
  }
 ],
 "metadata": {
  "kernelspec": {
   "display_name": "rag-application-tnsFL0q_",
   "language": "python",
   "name": "python3"
  },
  "language_info": {
   "codemirror_mode": {
    "name": "ipython",
    "version": 3
   },
   "file_extension": ".py",
   "mimetype": "text/x-python",
   "name": "python",
   "nbconvert_exporter": "python",
   "pygments_lexer": "ipython3",
   "version": "3.11.3"
  }
 },
 "nbformat": 4,
 "nbformat_minor": 5
}
